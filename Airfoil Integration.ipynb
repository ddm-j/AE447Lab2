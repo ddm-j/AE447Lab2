{
 "cells": [
  {
   "cell_type": "markdown",
   "metadata": {},
   "source": [
    "# Derivation of Airfoil Coordinate Normal Functions"
   ]
  },
  {
   "cell_type": "markdown",
   "metadata": {},
   "source": [
    "## Imports"
   ]
  },
  {
   "cell_type": "code",
   "execution_count": 31,
   "metadata": {},
   "outputs": [],
   "source": [
    "import sympy as sym\n",
    "import numpy as np\n",
    "from sympy.vector import CoordSys3D\n",
    "from sympy import lambdify\n",
    "import matplotlib.pyplot as plt\n",
    "%matplotlib inline"
   ]
  },
  {
   "cell_type": "markdown",
   "metadata": {},
   "source": [
    "## Variables"
   ]
  },
  {
   "cell_type": "code",
   "execution_count": 32,
   "metadata": {},
   "outputs": [],
   "source": [
    "x, a, b, c, d, e, t, c_a = sym.symbols('x a b c d e t c_a')\n",
    "N = CoordSys3D('N')"
   ]
  },
  {
   "cell_type": "markdown",
   "metadata": {},
   "source": [
    "## Symmetric Airfoil Equation"
   ]
  },
  {
   "cell_type": "code",
   "execution_count": 44,
   "metadata": {},
   "outputs": [
    {
     "data": {
      "text/latex": [
       "$\\displaystyle \\left(\\frac{x}{c_{a}}\\right)\\mathbf{\\hat{i}_{N}} + \\left(5 c_{a} t \\left(a \\sqrt{\\frac{x}{c_{a}}} + \\frac{b x}{c_{a}} + \\frac{c x^{2}}{c_{a}^{2}} + \\frac{d x^{3}}{c_{a}^{3}} + \\frac{e x^{4}}{c_{a}^{4}}\\right)\\right)\\mathbf{\\hat{j}_{N}}$"
      ],
      "text/plain": [
       "x/c_a*N.i + (5*c_a*t*(a*sqrt(x/c_a) + b*x/c_a + c*x**2/c_a**2 + d*x**3/c_a**3 + e*x**4/c_a**4))*N.j"
      ]
     },
     "execution_count": 44,
     "metadata": {},
     "output_type": "execute_result"
    }
   ],
   "source": [
    "airfoil = x*N.i + c_a*5*t*(a*sym.sqrt(x) + b*x + c*sym.Pow(x, 2) + d*sym.Pow(x, 3) + e*sym.Pow(x, 4))*N.j\n",
    "airfoil = airfoil.subs(x, x/c_a)\n",
    "airfoil"
   ]
  },
  {
   "cell_type": "markdown",
   "metadata": {},
   "source": [
    "## Tangent Vector"
   ]
  },
  {
   "cell_type": "code",
   "execution_count": 45,
   "metadata": {},
   "outputs": [],
   "source": [
    "tangent = sym.diff(airfoil, x)"
   ]
  },
  {
   "cell_type": "code",
   "execution_count": 46,
   "metadata": {},
   "outputs": [
    {
     "data": {
      "text/latex": [
       "$\\displaystyle \\left(\\frac{1}{c_{a}}\\right)\\mathbf{\\hat{i}_{N}} + \\left(5 c_{a} t \\left(\\frac{a \\sqrt{\\frac{x}{c_{a}}}}{2 x} + \\frac{b}{c_{a}} + \\frac{2 c x}{c_{a}^{2}} + \\frac{3 d x^{2}}{c_{a}^{3}} + \\frac{4 e x^{3}}{c_{a}^{4}}\\right)\\right)\\mathbf{\\hat{j}_{N}}$"
      ],
      "text/plain": [
       "1/c_a*N.i + (5*c_a*t*(a*sqrt(x/c_a)/(2*x) + b/c_a + 2*c*x/c_a**2 + 3*d*x**2/c_a**3 + 4*e*x**3/c_a**4))*N.j"
      ]
     },
     "execution_count": 46,
     "metadata": {},
     "output_type": "execute_result"
    }
   ],
   "source": [
    "tangent"
   ]
  },
  {
   "cell_type": "markdown",
   "metadata": {},
   "source": [
    "## Normal Vector"
   ]
  },
  {
   "cell_type": "code",
   "execution_count": 47,
   "metadata": {},
   "outputs": [],
   "source": [
    "normal = -1*tangent.coeff(N.j)*N.i + tangent.coeff(N.i)*N.j"
   ]
  },
  {
   "cell_type": "code",
   "execution_count": 48,
   "metadata": {},
   "outputs": [],
   "source": [
    "unit_normal = normal/normal.magnitude()"
   ]
  },
  {
   "cell_type": "code",
   "execution_count": 49,
   "metadata": {},
   "outputs": [
    {
     "data": {
      "text/latex": [
       "$\\displaystyle \\left(- \\frac{5 c_{a} t \\left(\\frac{a \\sqrt{\\frac{x}{c_{a}}}}{2 x} + \\frac{b}{c_{a}} + \\frac{2 c x}{c_{a}^{2}} + \\frac{3 d x^{2}}{c_{a}^{3}} + \\frac{4 e x^{3}}{c_{a}^{4}}\\right)}{\\sqrt{25 c_{a}^{2} t^{2} \\left(\\frac{a \\sqrt{\\frac{x}{c_{a}}}}{2 x} + \\frac{b}{c_{a}} + \\frac{2 c x}{c_{a}^{2}} + \\frac{3 d x^{2}}{c_{a}^{3}} + \\frac{4 e x^{3}}{c_{a}^{4}}\\right)^{2} + \\frac{1}{c_{a}^{2}}}}\\right)\\mathbf{\\hat{i}_{N}} + \\left(\\frac{1}{c_{a} \\sqrt{25 c_{a}^{2} t^{2} \\left(\\frac{a \\sqrt{\\frac{x}{c_{a}}}}{2 x} + \\frac{b}{c_{a}} + \\frac{2 c x}{c_{a}^{2}} + \\frac{3 d x^{2}}{c_{a}^{3}} + \\frac{4 e x^{3}}{c_{a}^{4}}\\right)^{2} + \\frac{1}{c_{a}^{2}}}}\\right)\\mathbf{\\hat{j}_{N}}$"
      ],
      "text/plain": [
       "(-5*c_a*t*(a*sqrt(x/c_a)/(2*x) + b/c_a + 2*c*x/c_a**2 + 3*d*x**2/c_a**3 + 4*e*x**3/c_a**4)/sqrt(25*c_a**2*t**2*(a*sqrt(x/c_a)/(2*x) + b/c_a + 2*c*x/c_a**2 + 3*d*x**2/c_a**3 + 4*e*x**3/c_a**4)**2 + c_a**(-2)))*N.i + (1/(c_a*sqrt(25*c_a**2*t**2*(a*sqrt(x/c_a)/(2*x) + b/c_a + 2*c*x/c_a**2 + 3*d*x**2/c_a**3 + 4*e*x**3/c_a**4)**2 + c_a**(-2))))*N.j"
      ]
     },
     "execution_count": 49,
     "metadata": {},
     "output_type": "execute_result"
    }
   ],
   "source": [
    "unit_normal"
   ]
  },
  {
   "cell_type": "markdown",
   "metadata": {},
   "source": [
    "## Plotting/Testing"
   ]
  },
  {
   "cell_type": "code",
   "execution_count": 50,
   "metadata": {},
   "outputs": [],
   "source": [
    "coeffs = {\n",
    "    'a':0.2969,\n",
    "    'b':-0.1260,\n",
    "    'c':-0.3516,\n",
    "    'd':0.2843,\n",
    "    'e':-0.1015,\n",
    "    't':0.12,\n",
    "    'c_a':6*0.0254\n",
    "}\n",
    "airfoil = airfoil.subs(coeffs)\n",
    "unit_normal = unit_normal.subs(coeffs)"
   ]
  },
  {
   "cell_type": "code",
   "execution_count": 51,
   "metadata": {},
   "outputs": [
    {
     "data": {
      "text/latex": [
       "$\\displaystyle \\left(- \\frac{0.00132865992014187 \\left(- 752.638041413353 x^{3} + 240.959033974061 x^{2} - 30.2767272201211 x - 0.826771653543307 + \\frac{0.380266194407186}{\\sqrt{x}}\\right)}{\\sqrt{\\left(- x^{3} + 0.320152610837438 x^{2} - 0.0402274739704433 x - 0.00109849835917241 + \\frac{0.000505244451493705}{\\sqrt{x}}\\right)^{2} + 0.00909044827683273}}\\right)\\mathbf{\\hat{i}_{N}} + \\left(\\frac{0.095343842364532}{\\sqrt{\\left(- x^{3} + 0.320152610837438 x^{2} - 0.0402274739704433 x - 0.00109849835917241 + \\frac{0.000505244451493705}{\\sqrt{x}}\\right)^{2} + 0.00909044827683273}}\\right)\\mathbf{\\hat{j}_{N}}$"
      ],
      "text/plain": [
       "(-0.00132865992014187*(-752.638041413353*x**3 + 240.959033974061*x**2 - 30.2767272201211*x - 0.826771653543307 + 0.380266194407186/sqrt(x))/sqrt((-x**3 + 0.320152610837438*x**2 - 0.0402274739704433*x - 0.00109849835917241 + 0.000505244451493705/sqrt(x))**2 + 0.00909044827683273))*N.i + (0.095343842364532/sqrt((-x**3 + 0.320152610837438*x**2 - 0.0402274739704433*x - 0.00109849835917241 + 0.000505244451493705/sqrt(x))**2 + 0.00909044827683273))*N.j"
      ]
     },
     "execution_count": 51,
     "metadata": {},
     "output_type": "execute_result"
    }
   ],
   "source": [
    "unit_normal"
   ]
  },
  {
   "cell_type": "code",
   "execution_count": 52,
   "metadata": {},
   "outputs": [],
   "source": [
    "fx_airfoil = lambdify(x, airfoil.coeff(N.i))\n",
    "fy_airfoil = lambdify(x, airfoil.coeff(N.j))\n",
    "fx_norm = lambdify(x, unit_normal.coeff(N.i))\n",
    "fy_norm = lambdify(x, unit_normal.coeff(N.j))"
   ]
  },
  {
   "cell_type": "code",
   "execution_count": 53,
   "metadata": {},
   "outputs": [
    {
     "name": "stdout",
     "output_type": "stream",
     "text": [
      "[-4.60202526e-01 -8.04554619e-02 -5.25492788e-02 -3.93469932e-02\n",
      " -3.10181634e-02 -2.50248922e-02 -2.03758204e-02 -1.65926124e-02\n",
      " -1.34118973e-02 -1.06747510e-02 -8.27852994e-03 -6.15333734e-03\n",
      " -4.24949764e-03 -2.53042926e-03 -9.68365227e-04  4.58332145e-04\n",
      "  1.76691999e-03  2.97145004e-03  4.08358004e-03  5.11314752e-03\n",
      "  6.06858384e-03  6.95721875e-03  7.78550790e-03  8.55920552e-03\n",
      "  9.28349709e-03  9.96310258e-03  1.06023577e-02  1.12052784e-02\n",
      "  1.17756127e-02  1.23168825e-02  1.28324176e-02  1.33253842e-02\n",
      "  1.37988074e-02  1.42555911e-02  1.46985340e-02  1.51303429e-02\n",
      "  1.55536446e-02  1.59709956e-02  1.63848902e-02  1.67977680e-02\n",
      "  1.72120198e-02  1.76299934e-02  1.80539976e-02  1.84863066e-02\n",
      "  1.89291636e-02  1.93847837e-02  1.98553566e-02  2.03430490e-02\n",
      "  2.08500069e-02  2.13783570e-02]\n"
     ]
    },
    {
     "data": {
      "image/png": "[encoded data removed]",
      "text/plain": [
       "<Figure size 640x480 with 1 Axes>"
      ]
     },
     "metadata": {},
     "output_type": "display_data"
    }
   ],
   "source": [
    "x_c = np.linspace(0.0001, 6*0.0254, 50)\n",
    "y_c = fy_airfoil(x_c)\n",
    "x_n = fx_norm(x_c)\n",
    "y_n = fy_norm(x_c)\n",
    "print(x_n)\n",
    "plt.plot(x_c, y_c)\n",
    "plt.quiver(x_c, y_c, x_n, y_n)\n",
    "plt.axis('equal')\n",
    "plt.show()"
   ]
  },
  {
   "cell_type": "code",
   "execution_count": null,
   "metadata": {},
   "outputs": [],
   "source": []
  },
  {
   "cell_type": "code",
   "execution_count": null,
   "metadata": {},
   "outputs": [],
   "source": []
  }
 ],
 "metadata": {
  "kernelspec": {
   "display_name": "AE447Lab2",
   "language": "python",
   "name": "ae447lab2"
  },
  "language_info": {
   "codemirror_mode": {
    "name": "ipython",
    "version": 3
   },
   "file_extension": ".py",
   "mimetype": "text/x-python",
   "name": "python",
   "nbconvert_exporter": "python",
   "pygments_lexer": "ipython3",
   "version": "3.10.6"
  }
 },
 "nbformat": 4,
 "nbformat_minor": 4
}
