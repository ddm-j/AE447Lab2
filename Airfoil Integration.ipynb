{
 "cells": [
  {
   "cell_type": "markdown",
   "metadata": {},
   "source": [
    "# Derivation of Airfoil Coordinate Normal Functions"
   ]
  },
  {
   "cell_type": "markdown",
   "metadata": {},
   "source": [
    "## Imports"
   ]
  },
  {
   "cell_type": "code",
   "execution_count": 62,
   "metadata": {},
   "outputs": [],
   "source": [
    "import sympy as sym\n",
    "import numpy as np\n",
    "from sympy.vector import CoordSys3D\n",
    "from sympy import lambdify\n",
    "import matplotlib.pyplot as plt\n",
    "from scipy.integrate import quad, simps\n",
    "import scipy.interpolate as inter\n",
    "%matplotlib inline"
   ]
  },
  {
   "cell_type": "markdown",
   "metadata": {},
   "source": [
    "## Variables"
   ]
  },
  {
   "cell_type": "code",
   "execution_count": 3,
   "metadata": {},
   "outputs": [],
   "source": [
    "x, a, b, c, d, e, t, c_a = sym.symbols('x a b c d e t c_a')\n",
    "N = CoordSys3D('N')"
   ]
  },
  {
   "cell_type": "markdown",
   "metadata": {},
   "source": [
    "## Symmetric Airfoil Equation"
   ]
  },
  {
   "cell_type": "code",
   "execution_count": 54,
   "metadata": {},
   "outputs": [],
   "source": [
    "airfoil = x*N.i + c_a*5*t*(a*sym.sqrt(x) + b*x + c*sym.Pow(x, 2) + d*sym.Pow(x, 3) + e*sym.Pow(x, 4))*N.j\n",
    "airfoil = airfoil.subs(x, x/c_a)\n",
    "coeffs = {\n",
    "    'a':0.2969,\n",
    "    'b':-0.1260,\n",
    "    'c':-0.3516,\n",
    "    'd':0.2843,\n",
    "    'e':-0.1015,\n",
    "    't':0.12,\n",
    "    'c_a':6*0.0254\n",
    "}\n",
    "airfoil = airfoil.subs(coeffs)"
   ]
  },
  {
   "cell_type": "markdown",
   "metadata": {},
   "source": [
    "## Dicretized Airfoil Interpolation Function"
   ]
  },
  {
   "cell_type": "code",
   "execution_count": 65,
   "metadata": {},
   "outputs": [
    {
     "data": {
      "image/png": "[encoded data removed]",
      "text/plain": [
       "<Figure size 640x480 with 1 Axes>"
      ]
     },
     "metadata": {},
     "output_type": "display_data"
    }
   ],
   "source": [
    "# Log Discretize the Space\n",
    "x_l = np.geomspace(0.0001, coeffs['c_a'], num = 500)\n",
    "x_l[0] = 0.0\n",
    "\n",
    "# Get Airfoil Coordinates\n",
    "a_f = lambdify(x, airfoil.coeff(N.j))\n",
    "a_l = a_f(x_l)\n",
    "\n",
    "# Interpolate the Data to Remove the Tangent Discontinuity\n",
    "a_int = inter.InterpolatedUnivariateSpline(x_l, a_l)\n",
    "t_int = a_int.derivative()\n",
    "\n",
    "plt.plot(x_l, a_l)\n",
    "plt.plot(x_l, a_int(x_l))\n",
    "plt.show()"
   ]
  },
  {
   "cell_type": "markdown",
   "metadata": {},
   "source": [
    "## Tangent Vector"
   ]
  },
  {
   "cell_type": "code",
   "execution_count": 41,
   "metadata": {},
   "outputs": [],
   "source": [
    "tangent = sym.diff(airfoil, x)"
   ]
  },
  {
   "cell_type": "code",
   "execution_count": 42,
   "metadata": {},
   "outputs": [
    {
     "data": {
      "text/latex": [
       "$\\displaystyle \\left(6.56167979002625\\right)\\mathbf{\\hat{i}_{N}} + \\left(- 68.821222506837 x^{3} + 22.0332940665881 x^{2} - 2.76850393700787 x - 0.0756 + \\frac{0.0347715408165931}{\\sqrt{x}}\\right)\\mathbf{\\hat{j}_{N}}$"
      ],
      "text/plain": [
       "6.56167979002625*N.i + (-68.821222506837*x**3 + 22.0332940665881*x**2 - 2.76850393700787*x - 0.0756 + 0.0347715408165931/sqrt(x))*N.j"
      ]
     },
     "execution_count": 42,
     "metadata": {},
     "output_type": "execute_result"
    }
   ],
   "source": [
    "tangent"
   ]
  },
  {
   "cell_type": "markdown",
   "metadata": {},
   "source": [
    "## Normal Vector"
   ]
  },
  {
   "cell_type": "code",
   "execution_count": 43,
   "metadata": {},
   "outputs": [],
   "source": [
    "normal = tangent.coeff(N.j)*N.i + -1*tangent.coeff(N.i)*N.j"
   ]
  },
  {
   "cell_type": "code",
   "execution_count": 44,
   "metadata": {},
   "outputs": [],
   "source": [
    "unit_normal = normal/(normal.magnitude().simplify())"
   ]
  },
  {
   "cell_type": "code",
   "execution_count": 45,
   "metadata": {},
   "outputs": [
    {
     "data": {
      "text/latex": [
       "$\\displaystyle \\left(\\frac{0.0145304015763547 \\left(- 68.821222506837 x^{3} + 22.0332940665881 x^{2} - 2.76850393700787 x - 0.0756 + \\frac{0.0347715408165931}{\\sqrt{x}}\\right)}{\\sqrt{\\frac{0.00909044827683273 x + \\left(\\sqrt{x} \\left(x^{3} - 0.320152610837438 x^{2} + 0.0402274739704433 x + 0.00109849835917241\\right) - 0.000505244451493705\\right)^{2}}{x}}}\\right)\\mathbf{\\hat{i}_{N}} + \\left(- \\frac{0.095343842364532}{\\sqrt{\\frac{0.00909044827683273 x + \\left(\\sqrt{x} \\left(x^{3} - 0.320152610837438 x^{2} + 0.0402274739704433 x + 0.00109849835917241\\right) - 0.000505244451493705\\right)^{2}}{x}}}\\right)\\mathbf{\\hat{j}_{N}}$"
      ],
      "text/plain": [
       "(0.0145304015763547*(-68.821222506837*x**3 + 22.0332940665881*x**2 - 2.76850393700787*x - 0.0756 + 0.0347715408165931/sqrt(x))/sqrt((0.00909044827683273*x + (sqrt(x)*(x**3 - 0.320152610837438*x**2 + 0.0402274739704433*x + 0.00109849835917241) - 0.000505244451493705)**2)/x))*N.i + (-0.095343842364532/sqrt((0.00909044827683273*x + (sqrt(x)*(x**3 - 0.320152610837438*x**2 + 0.0402274739704433*x + 0.00109849835917241) - 0.000505244451493705)**2)/x))*N.j"
      ]
     },
     "execution_count": 45,
     "metadata": {},
     "output_type": "execute_result"
    }
   ],
   "source": [
    "unit_normal"
   ]
  },
  {
   "cell_type": "markdown",
   "metadata": {},
   "source": [
    "## Plotting/Testing"
   ]
  },
  {
   "cell_type": "code",
   "execution_count": 46,
   "metadata": {},
   "outputs": [],
   "source": [
    "unit_normal = unit_normal.subs(coeffs)\n",
    "tangent = tangent.subs(coeffs)"
   ]
  },
  {
   "cell_type": "markdown",
   "metadata": {},
   "source": [
    "## Differential Area"
   ]
  },
  {
   "cell_type": "code",
   "execution_count": 52,
   "metadata": {},
   "outputs": [
    {
     "name": "stdout",
     "output_type": "stream",
     "text": [
      "(0.15539249837296928, 2.873035725992068e-09) 0.05274972233789182\n"
     ]
    }
   ],
   "source": [
    "dA = sym.sqrt(1 + sym.Pow(tangent.coeff(N.j), 2))\n",
    "dA_f = lambdify(x, dA)\n",
    "x_a = np.linspace(0.1, 6*0.0254, 10000)\n",
    "S = quad(dA_f, 0, 6*0.0254)\n",
    "S_s = simps(dA_f(x_a), x_a)\n",
    "print(S, S_s)"
   ]
  },
  {
   "cell_type": "code",
   "execution_count": 18,
   "metadata": {},
   "outputs": [],
   "source": [
    "fx_airfoil = lambdify(x, airfoil.coeff(N.i))\n",
    "fy_airfoil = lambdify(x, airfoil.coeff(N.j))\n",
    "fx_norm = lambdify(x, unit_normal.coeff(N.i))\n",
    "fy_norm = lambdify(x, unit_normal.coeff(N.j))"
   ]
  },
  {
   "cell_type": "code",
   "execution_count": 66,
   "metadata": {},
   "outputs": [
    {
     "name": "stdout",
     "output_type": "stream",
     "text": [
      "[ 9.99998219e-01  1.76815508e-01  1.22317625e-01  9.76143893e-02\n",
      "  8.26775682e-02  7.23577563e-02  6.46491012e-02  5.85866996e-02\n",
      "  5.36413468e-02  4.94953768e-02  4.59450459e-02  4.28528673e-02\n",
      "  4.01222538e-02  3.76830941e-02  3.54830959e-02  3.34823541e-02\n",
      "  3.16498154e-02  2.99609020e-02  2.83958719e-02  2.69386590e-02\n",
      "  2.55760364e-02  2.42970014e-02  2.30923157e-02  2.19541563e-02\n",
      "  2.08758482e-02  1.98516552e-02  1.88766166e-02  1.79464163e-02\n",
      "  1.70572786e-02  1.62058837e-02  1.53892987e-02  1.46049211e-02\n",
      "  1.38504319e-02  1.31237568e-02  1.24230335e-02  1.17465844e-02\n",
      "  1.10928930e-02  1.04605846e-02  9.84840939e-03  9.25522757e-03\n",
      "  8.67999729e-03  8.12176367e-03  7.57964946e-03  7.05284686e-03\n",
      "  6.54061041e-03  6.04225071e-03  5.55712890e-03  5.08465179e-03\n",
      "  4.62426760e-03  4.17546210e-03  3.73775523e-03  3.31069806e-03\n",
      "  2.89387010e-03  2.48687687e-03  2.08934771e-03  1.70093386e-03\n",
      "  1.32130665e-03  9.50155924e-04  5.87188606e-04  2.32127385e-04\n",
      " -1.15290471e-04 -4.55314193e-04 -7.88180496e-04 -1.11411448e-03\n",
      " -1.43333043e-03 -1.74603260e-03 -2.05241588e-03 -2.35266641e-03\n",
      " -2.64696220e-03 -2.93547363e-03 -3.21836395e-03 -3.49578976e-03\n",
      " -3.76790137e-03 -4.03484325e-03 -4.29675434e-03 -4.55376840e-03\n",
      " -4.80601434e-03 -5.05361646e-03 -5.29669476e-03 -5.53536513e-03\n",
      " -5.76973967e-03 -5.99992679e-03 -6.22603151e-03 -6.44815561e-03\n",
      " -6.66639775e-03 -6.88085375e-03 -7.09161662e-03 -7.29877679e-03\n",
      " -7.50242220e-03 -7.70263844e-03 -7.89950886e-03 -8.09311471e-03\n",
      " -8.28353517e-03 -8.47084756e-03 -8.65512732e-03 -8.83644818e-03\n",
      " -9.01488218e-03 -9.19049981e-03 -9.36337002e-03 -9.53356034e-03\n",
      " -9.70113690e-03 -9.86616454e-03 -1.00287068e-02 -1.01888261e-02\n",
      " -1.03465836e-02 -1.05020394e-02 -1.06552527e-02 -1.08062814e-02\n",
      " -1.09551826e-02 -1.11020125e-02 -1.12468264e-02 -1.13896787e-02\n",
      " -1.15306229e-02 -1.16697118e-02 -1.18069976e-02 -1.19425316e-02\n",
      " -1.20763643e-02 -1.22085457e-02 -1.23391252e-02 -1.24681515e-02\n",
      " -1.25956725e-02 -1.27217359e-02 -1.28463886e-02 -1.29696771e-02\n",
      " -1.30916472e-02 -1.32123444e-02 -1.33318136e-02 -1.34500994e-02\n",
      " -1.35672456e-02 -1.36832960e-02 -1.37982938e-02 -1.39122817e-02\n",
      " -1.40253021e-02 -1.41373971e-02 -1.42486084e-02 -1.43589772e-02\n",
      " -1.44685446e-02 -1.45773512e-02 -1.46854373e-02 -1.47928431e-02\n",
      " -1.48996081e-02 -1.50057720e-02 -1.51113739e-02 -1.52164526e-02\n",
      " -1.53210469e-02 -1.54251951e-02 -1.55289354e-02 -1.56323057e-02\n",
      " -1.57353437e-02 -1.58380868e-02 -1.59405724e-02 -1.60428375e-02\n",
      " -1.61449188e-02 -1.62468530e-02 -1.63486767e-02 -1.64504259e-02\n",
      " -1.65521369e-02 -1.66538456e-02 -1.67555875e-02 -1.68573985e-02\n",
      " -1.69593137e-02 -1.70613686e-02 -1.71635981e-02 -1.72660373e-02\n",
      " -1.73687210e-02 -1.74716837e-02 -1.75749602e-02 -1.76785846e-02\n",
      " -1.77825914e-02 -1.78870146e-02 -1.79918884e-02 -1.80972465e-02\n",
      " -1.82031227e-02 -1.83095508e-02 -1.84165644e-02 -1.85241967e-02\n",
      " -1.86324813e-02 -1.87414513e-02 -1.88511399e-02 -1.89615801e-02\n",
      " -1.90728049e-02 -1.91848472e-02 -1.92977398e-02 -1.94115152e-02\n",
      " -1.95262062e-02 -1.96418452e-02 -1.97584646e-02 -1.98760968e-02\n",
      " -1.99947742e-02 -2.01145288e-02 -2.02353928e-02 -2.03573982e-02\n",
      " -2.04805771e-02 -2.06049613e-02 -2.07305827e-02 -2.08574730e-02\n",
      " -2.09856640e-02 -2.11151873e-02 -2.12460745e-02 -2.13783570e-02]\n"
     ]
    },
    {
     "data": {
      "image/png": "[encoded data removed]",
      "text/plain": [
       "<Figure size 640x480 with 1 Axes>"
      ]
     },
     "metadata": {},
     "output_type": "display_data"
    }
   ],
   "source": [
    "x_c = np.linspace(1e-10, 6*0.0254, 200)\n",
    "y_c = fy_airfoil(x_c)\n",
    "x_n = fx_norm(x_c)\n",
    "y_n = fy_norm(x_c)\n",
    "print(x_n)\n",
    "plt.plot(x_c, y_c)\n",
    "plt.quiver(x_c, y_c, x_n, y_n)\n",
    "plt.axis('equal')\n",
    "plt.show()"
   ]
  },
  {
   "cell_type": "code",
   "execution_count": null,
   "metadata": {},
   "outputs": [],
   "source": []
  },
  {
   "cell_type": "code",
   "execution_count": null,
   "metadata": {},
   "outputs": [],
   "source": []
  }
 ],
 "metadata": {
  "kernelspec": {
   "display_name": "AE447Lab2",
   "language": "python",
   "name": "ae447lab2"
  },
  "language_info": {
   "codemirror_mode": {
    "name": "ipython",
    "version": 3
   },
   "file_extension": ".py",
   "mimetype": "text/x-python",
   "name": "python",
   "nbconvert_exporter": "python",
   "pygments_lexer": "ipython3",
   "version": "3.10.4"
  }
 },
 "nbformat": 4,
 "nbformat_minor": 4
}
